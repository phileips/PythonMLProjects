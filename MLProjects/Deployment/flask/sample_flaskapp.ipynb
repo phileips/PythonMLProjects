{
 "cells": [
  {
   "cell_type": "code",
   "execution_count": null,
   "id": "01ae7088",
   "metadata": {},
   "outputs": [
    {
     "name": "stdout",
     "output_type": "stream",
     "text": [
      " * Serving Flask app '__main__'\n",
      " * Debug mode: off\n"
     ]
    },
    {
     "name": "stderr",
     "output_type": "stream",
     "text": [
      "WARNING: This is a development server. Do not use it in a production deployment. Use a production WSGI server instead.\n",
      " * Running on http://127.0.0.1:5000\n",
      "Press CTRL+C to quit\n",
      "127.0.0.1 - - [03/Aug/2023 21:03:55] \"GET / HTTP/1.1\" 200 -\n",
      "127.0.0.1 - - [03/Aug/2023 21:03:55] \"GET /favicon.ico HTTP/1.1\" 404 -\n",
      "127.0.0.1 - - [03/Aug/2023 21:04:12] \"GET / HTTP/1.1\" 200 -\n",
      "127.0.0.1 - - [03/Aug/2023 21:12:11] \"GET / HTTP/1.1\" 200 -\n"
     ]
    }
   ],
   "source": [
    "# from werkzeug.utils import import_string\n",
    "# import werkzeug\n",
    "# werkzeug.import_string = import_string\n",
    "\n",
    "\n",
    "from flask import Flask\n",
    "app=Flask(__name__)\n",
    "\n",
    "@app.route(\"/\")\n",
    "def sample_method():\n",
    "    return \"Sample Method\"\n",
    "\n",
    "if __name__=='__main__':\n",
    "    app.run(debug=False)\n",
    "\n"
   ]
  }
 ],
 "metadata": {
  "kernelspec": {
   "display_name": "Python 3 (ipykernel)",
   "language": "python",
   "name": "python3"
  },
  "language_info": {
   "codemirror_mode": {
    "name": "ipython",
    "version": 3
   },
   "file_extension": ".py",
   "mimetype": "text/x-python",
   "name": "python",
   "nbconvert_exporter": "python",
   "pygments_lexer": "ipython3",
   "version": "3.11.4"
  }
 },
 "nbformat": 4,
 "nbformat_minor": 5
}
