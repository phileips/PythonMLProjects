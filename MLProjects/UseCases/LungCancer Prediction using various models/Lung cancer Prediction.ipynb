{
 "cells": [
  {
   "cell_type": "markdown",
   "id": "58dec7d2",
   "metadata": {},
   "source": [
    "# Lung_cancer Prediction using various ML models"
   ]
  },
  {
   "cell_type": "markdown",
   "id": "a092795a",
   "metadata": {},
   "source": [
    "## Import lung_cancer data from CSV file\n",
    "\n",
    " > Import Data and Required Packages"
   ]
  },
  {
   "cell_type": "code",
   "execution_count": 11,
   "id": "85dc7f39",
   "metadata": {},
   "outputs": [
    {
     "data": {
      "text/html": [
       "<div>\n",
       "<style scoped>\n",
       "    .dataframe tbody tr th:only-of-type {\n",
       "        vertical-align: middle;\n",
       "    }\n",
       "\n",
       "    .dataframe tbody tr th {\n",
       "        vertical-align: top;\n",
       "    }\n",
       "\n",
       "    .dataframe thead th {\n",
       "        text-align: right;\n",
       "    }\n",
       "</style>\n",
       "<table border=\"1\" class=\"dataframe\">\n",
       "  <thead>\n",
       "    <tr style=\"text-align: right;\">\n",
       "      <th></th>\n",
       "      <th>Name</th>\n",
       "      <th>Surname</th>\n",
       "      <th>Age</th>\n",
       "      <th>Smokes</th>\n",
       "      <th>AreaQ</th>\n",
       "      <th>Alkhol</th>\n",
       "      <th>Result</th>\n",
       "    </tr>\n",
       "  </thead>\n",
       "  <tbody>\n",
       "    <tr>\n",
       "      <th>0</th>\n",
       "      <td>John</td>\n",
       "      <td>Wick</td>\n",
       "      <td>35</td>\n",
       "      <td>3</td>\n",
       "      <td>5</td>\n",
       "      <td>4</td>\n",
       "      <td>1</td>\n",
       "    </tr>\n",
       "    <tr>\n",
       "      <th>1</th>\n",
       "      <td>John</td>\n",
       "      <td>Constantine</td>\n",
       "      <td>27</td>\n",
       "      <td>20</td>\n",
       "      <td>2</td>\n",
       "      <td>5</td>\n",
       "      <td>1</td>\n",
       "    </tr>\n",
       "    <tr>\n",
       "      <th>2</th>\n",
       "      <td>Camela</td>\n",
       "      <td>Anderson</td>\n",
       "      <td>30</td>\n",
       "      <td>0</td>\n",
       "      <td>5</td>\n",
       "      <td>2</td>\n",
       "      <td>0</td>\n",
       "    </tr>\n",
       "    <tr>\n",
       "      <th>3</th>\n",
       "      <td>Alex</td>\n",
       "      <td>Telles</td>\n",
       "      <td>28</td>\n",
       "      <td>0</td>\n",
       "      <td>8</td>\n",
       "      <td>1</td>\n",
       "      <td>0</td>\n",
       "    </tr>\n",
       "    <tr>\n",
       "      <th>4</th>\n",
       "      <td>Diego</td>\n",
       "      <td>Maradona</td>\n",
       "      <td>68</td>\n",
       "      <td>4</td>\n",
       "      <td>5</td>\n",
       "      <td>6</td>\n",
       "      <td>1</td>\n",
       "    </tr>\n",
       "  </tbody>\n",
       "</table>\n",
       "</div>"
      ],
      "text/plain": [
       "     Name      Surname  Age  Smokes  AreaQ  Alkhol  Result\n",
       "0    John         Wick   35       3      5       4       1\n",
       "1    John  Constantine   27      20      2       5       1\n",
       "2  Camela     Anderson   30       0      5       2       0\n",
       "3    Alex       Telles   28       0      8       1       0\n",
       "4   Diego     Maradona   68       4      5       6       1"
      ]
     },
     "execution_count": 11,
     "metadata": {},
     "output_type": "execute_result"
    }
   ],
   "source": [
    "from sklearn.linear_model import LogisticRegression\n",
    "import pandas  as pd\n",
    "\n",
    "# Reading the data\n",
    "data=pd.read_csv(\"lung_cancer_examples.csv\")\n",
    "data.head()"
   ]
  },
  {
   "cell_type": "code",
   "execution_count": 4,
   "id": "1c503508",
   "metadata": {},
   "outputs": [
    {
     "data": {
      "text/plain": [
       "<bound method NDFrame.describe of            Name      Surname  Age  Smokes  AreaQ  Alkhol  Result\n",
       "0          John         Wick   35       3      5       4       1\n",
       "1          John  Constantine   27      20      2       5       1\n",
       "2        Camela     Anderson   30       0      5       2       0\n",
       "3          Alex       Telles   28       0      8       1       0\n",
       "4         Diego     Maradona   68       4      5       6       1\n",
       "5     Cristiano      Ronaldo   34       0     10       0       0\n",
       "6        Mihail          Tal   58      15     10       0       0\n",
       "7         Kathy        Bates   22      12      5       2       0\n",
       "8        Nicole       Kidman   45       2      6       0       0\n",
       "9           Ray      Milland   52      18      4       5       1\n",
       "10      Fredric        March   33       4      8       0       0\n",
       "11          Yul      Brynner   18      10      6       3       0\n",
       "12         Joan     Crawford   25       2      5       1       0\n",
       "13         Jane        Wyman   28      20      2       8       1\n",
       "14         Anna      Magnani   34      25      4       8       1\n",
       "15   Katharine       Hepburn   39      18      8       1       0\n",
       "16   Katharine       Hepburn   42      22      3       5       1\n",
       "17       Barbra    Streisand   19      12      8       0       0\n",
       "18      Maggie         Smith   62       5      4       3       1\n",
       "19      Glenda       Jackson   73      10      7       6       1\n",
       "20        Jane         Fonda   55      15      1       3       1\n",
       "21  Maximilian        Schell   33       8      8       1       0\n",
       "22     Gregory          Peck   22      20      6       2       0\n",
       "23      Sidney       Poitier   44       5      8       1       0\n",
       "24         Rex      Harrison   77       3      2       6       1\n",
       "25         Lee        Marvin   21      20      5       3       0\n",
       "26        Paul      Scofield   37      15      6       2       0\n",
       "27         Rod       Steiger   34      12      8       0       0\n",
       "28        John         Wayne   55      20      1       4       1\n",
       "29        Gene       Hackman   40      20      2       7       1\n",
       "30      Marlon        Brando   36      13      5       2       0\n",
       "31        Jack        Lemmon   56      20      3       3       1\n",
       "32        Jack     Nicholson   47      15      1       8       1\n",
       "33       Peter        Finch    62      25      3       4       1\n",
       "34     Richard      Dreyfuss   26      10      7       2       0\n",
       "35      Dustin       Hoffman   25      20      8       2       0\n",
       "36       Henry        Henry    59      20      3       4       1\n",
       "37      Robert        Duvall   62      15      5       5       1\n",
       "38       Ellen       Burstyn   33      25      8       2       0\n",
       "39        Faye       Dunaway   37      10      5       3       0\n",
       "40       Diane        Keaton   50      20      2       4       1\n",
       "41        Jane         Fonda   47      12      8       0       0\n",
       "42       Sally         Field   69      20      5       4       1\n",
       "43       Sissy        Spacek   63      20      4       5       1\n",
       "44     Jessica         Lange   39      15      7       2       0\n",
       "45     Gwyneth       Paltrow   21      20      8       3       0\n",
       "46       Halle         Berry   31      20      9       4       0\n",
       "47      Nicole        Kidman   28      10      4       1       0\n",
       "48    Charlize        Theron   53      20      6       3       1\n",
       "49   Katharine       Hepburn   62      20      5       6       1\n",
       "50   Katharine       Hepburn   42      12      6       2       0\n",
       "51      Barbra     Streisand   44      30      1       6       1\n",
       "52      Maggie         Smith   26      34      1       8       1\n",
       "53      Glenda       Jackson   35      20      5       1       0\n",
       "54      Ernest      Borgnine   26      13      6       1       0\n",
       "55        Alec      Guinness   77      20      5       4       1\n",
       "56    Charlton        Heston   75      15      3       5       1\n",
       "57     Gregory          Peck   43      30      3       8       1\n",
       "58      Sidney       Poitier   51      25      9       0       0>"
      ]
     },
     "execution_count": 4,
     "metadata": {},
     "output_type": "execute_result"
    }
   ],
   "source": [
    "data.describe"
   ]
  },
  {
   "cell_type": "code",
   "execution_count": 12,
   "id": "a15fa1a2",
   "metadata": {},
   "outputs": [
    {
     "data": {
      "text/plain": [
       "Name       0\n",
       "Surname    0\n",
       "Age        0\n",
       "Smokes     0\n",
       "AreaQ      0\n",
       "Alkhol     0\n",
       "Result     0\n",
       "dtype: int64"
      ]
     },
     "execution_count": 12,
     "metadata": {},
     "output_type": "execute_result"
    }
   ],
   "source": [
    "\"\"\"check for null values\"\"\"\n",
    "data.isnull().sum()"
   ]
  },
  {
   "cell_type": "code",
   "execution_count": 13,
   "id": "d0bb1fa2",
   "metadata": {},
   "outputs": [
    {
     "data": {
      "text/html": [
       "<div>\n",
       "<style scoped>\n",
       "    .dataframe tbody tr th:only-of-type {\n",
       "        vertical-align: middle;\n",
       "    }\n",
       "\n",
       "    .dataframe tbody tr th {\n",
       "        vertical-align: top;\n",
       "    }\n",
       "\n",
       "    .dataframe thead th {\n",
       "        text-align: right;\n",
       "    }\n",
       "</style>\n",
       "<table border=\"1\" class=\"dataframe\">\n",
       "  <thead>\n",
       "    <tr style=\"text-align: right;\">\n",
       "      <th></th>\n",
       "      <th>Age</th>\n",
       "      <th>Smokes</th>\n",
       "      <th>AreaQ</th>\n",
       "      <th>Alkhol</th>\n",
       "      <th>Result</th>\n",
       "    </tr>\n",
       "  </thead>\n",
       "  <tbody>\n",
       "    <tr>\n",
       "      <th>0</th>\n",
       "      <td>35</td>\n",
       "      <td>3</td>\n",
       "      <td>5</td>\n",
       "      <td>4</td>\n",
       "      <td>1</td>\n",
       "    </tr>\n",
       "    <tr>\n",
       "      <th>1</th>\n",
       "      <td>27</td>\n",
       "      <td>20</td>\n",
       "      <td>2</td>\n",
       "      <td>5</td>\n",
       "      <td>1</td>\n",
       "    </tr>\n",
       "    <tr>\n",
       "      <th>2</th>\n",
       "      <td>30</td>\n",
       "      <td>0</td>\n",
       "      <td>5</td>\n",
       "      <td>2</td>\n",
       "      <td>0</td>\n",
       "    </tr>\n",
       "    <tr>\n",
       "      <th>3</th>\n",
       "      <td>28</td>\n",
       "      <td>0</td>\n",
       "      <td>8</td>\n",
       "      <td>1</td>\n",
       "      <td>0</td>\n",
       "    </tr>\n",
       "    <tr>\n",
       "      <th>4</th>\n",
       "      <td>68</td>\n",
       "      <td>4</td>\n",
       "      <td>5</td>\n",
       "      <td>6</td>\n",
       "      <td>1</td>\n",
       "    </tr>\n",
       "  </tbody>\n",
       "</table>\n",
       "</div>"
      ],
      "text/plain": [
       "   Age  Smokes  AreaQ  Alkhol  Result\n",
       "0   35       3      5       4       1\n",
       "1   27      20      2       5       1\n",
       "2   30       0      5       2       0\n",
       "3   28       0      8       1       0\n",
       "4   68       4      5       6       1"
      ]
     },
     "execution_count": 13,
     "metadata": {},
     "output_type": "execute_result"
    }
   ],
   "source": [
    "'''drop unnecessary columns'''\n",
    "data=data.drop(columns=['Name','Surname'])\n",
    "data.head()"
   ]
  },
  {
   "cell_type": "markdown",
   "id": "d8f50894",
   "metadata": {},
   "source": [
    "## LogisticRegression"
   ]
  },
  {
   "cell_type": "code",
   "execution_count": null,
   "id": "0fd87428",
   "metadata": {},
   "outputs": [],
   "source": [
    "from sklearn.model_selection import train_test_split\n",
    "y=data['Result']\n",
    "X=data.drop(columns='Result')\n",
    "\n",
    "\n",
    "X_train,X_test,y_train,y_test=train_test_split(X,y,test_size=0.2,random_state=0)\n",
    "classifier=LogisticRegression()\n",
    "classifier.fit(X_train,y_train)\n",
    "\n",
    "y_pred=classifier.predict(X_test)"
   ]
  },
  {
   "cell_type": "markdown",
   "id": "806176ac",
   "metadata": {},
   "source": [
    "## KNN Claassifier"
   ]
  },
  {
   "cell_type": "code",
   "execution_count": 17,
   "id": "7c4157e1",
   "metadata": {},
   "outputs": [
    {
     "data": {
      "text/plain": [
       "array([[7, 1],\n",
       "       [0, 4]], dtype=int64)"
      ]
     },
     "execution_count": 17,
     "metadata": {},
     "output_type": "execute_result"
    }
   ],
   "source": [
    "from sklearn.neighbors import KNeighborsClassifier\n",
    "from sklearn.metrics import confusion_matrix,accuracy_score\n",
    "\n",
    "\n",
    "clas=KNeighborsClassifier(n_neighbors=5)\n",
    "clas.fit(X_train,y_train)\n",
    "\n",
    "y_knn_predict=clas.predict(X_test)\n",
    "y_knn_predict\n",
    "\n",
    "cm=confusion_matrix(y_test,y_knn_predict)\n",
    "cm"
   ]
  },
  {
   "cell_type": "code",
   "execution_count": 18,
   "id": "7f94e1aa",
   "metadata": {},
   "outputs": [
    {
     "data": {
      "text/plain": [
       "0.9166666666666666"
      ]
     },
     "execution_count": 18,
     "metadata": {},
     "output_type": "execute_result"
    }
   ],
   "source": [
    "clas.score(X_test,y_test)"
   ]
  },
  {
   "cell_type": "code",
   "execution_count": 21,
   "id": "440725e8",
   "metadata": {},
   "outputs": [
    {
     "data": {
      "text/plain": [
       "array([0, 0, 1, 1, 0, 0, 0, 0, 1, 0, 1, 0], dtype=int64)"
      ]
     },
     "execution_count": 21,
     "metadata": {},
     "output_type": "execute_result"
    }
   ],
   "source": [
    "y_pred\n"
   ]
  },
  {
   "cell_type": "code",
   "execution_count": 7,
   "id": "e6136f30",
   "metadata": {},
   "outputs": [
    {
     "data": {
      "text/plain": [
       "26    0\n",
       "35    0\n",
       "43    1\n",
       "28    1\n",
       "11    0\n",
       "2     0\n",
       "34    0\n",
       "46    0\n",
       "40    1\n",
       "22    0\n",
       "4     1\n",
       "10    0\n",
       "Name: Result, dtype: int64"
      ]
     },
     "execution_count": 7,
     "metadata": {},
     "output_type": "execute_result"
    }
   ],
   "source": [
    "y_test"
   ]
  },
  {
   "cell_type": "code",
   "execution_count": 8,
   "id": "17c29913",
   "metadata": {},
   "outputs": [
    {
     "name": "stdout",
     "output_type": "stream",
     "text": [
      "1.0\n"
     ]
    },
    {
     "data": {
      "text/plain": [
       "array([[8, 0],\n",
       "       [0, 4]], dtype=int64)"
      ]
     },
     "execution_count": 8,
     "metadata": {},
     "output_type": "execute_result"
    }
   ],
   "source": [
    "from sklearn.metrics import confusion_matrix,accuracy_score\n",
    "acc=accuracy_score(y_test,y_pred)\n",
    "print(acc)\n",
    "cm=confusion_matrix(y_test,y_pred)\n",
    "cm"
   ]
  },
  {
   "cell_type": "code",
   "execution_count": 25,
   "id": "682a37cd",
   "metadata": {},
   "outputs": [
    {
     "data": {
      "text/plain": [
       "30    0\n",
       "41    0\n",
       "33    1\n",
       "42    1\n",
       "48    1\n",
       "Name: Result, dtype: int64"
      ]
     },
     "execution_count": 25,
     "metadata": {},
     "output_type": "execute_result"
    }
   ],
   "source": [
    "y_train.head()"
   ]
  },
  {
   "cell_type": "code",
   "execution_count": 26,
   "id": "4306ed34",
   "metadata": {},
   "outputs": [
    {
     "name": "stdout",
     "output_type": "stream",
     "text": [
      "(44, 4)\n",
      "(15, 4)\n"
     ]
    }
   ],
   "source": [
    "Xtr,Xte,ytr,yte=train_test_split(X,y)\n",
    "print(Xtr.shape)\n",
    "print(Xte.shape)"
   ]
  },
  {
   "cell_type": "code",
   "execution_count": 27,
   "id": "3906dbda",
   "metadata": {},
   "outputs": [
    {
     "data": {
      "text/plain": [
       "4     1\n",
       "39    0\n",
       "40    1\n",
       "12    0\n",
       "17    0\n",
       "Name: Result, dtype: int64"
      ]
     },
     "execution_count": 27,
     "metadata": {},
     "output_type": "execute_result"
    }
   ],
   "source": [
    "ytr.head()"
   ]
  },
  {
   "cell_type": "code",
   "execution_count": 12,
   "id": "7dff51d1",
   "metadata": {},
   "outputs": [
    {
     "data": {
      "text/html": [
       "<div>\n",
       "<style scoped>\n",
       "    .dataframe tbody tr th:only-of-type {\n",
       "        vertical-align: middle;\n",
       "    }\n",
       "\n",
       "    .dataframe tbody tr th {\n",
       "        vertical-align: top;\n",
       "    }\n",
       "\n",
       "    .dataframe thead th {\n",
       "        text-align: right;\n",
       "    }\n",
       "</style>\n",
       "<table border=\"1\" class=\"dataframe\">\n",
       "  <thead>\n",
       "    <tr style=\"text-align: right;\">\n",
       "      <th></th>\n",
       "      <th>Age</th>\n",
       "      <th>Smokes</th>\n",
       "      <th>AreaQ</th>\n",
       "      <th>Alkhol</th>\n",
       "    </tr>\n",
       "  </thead>\n",
       "  <tbody>\n",
       "    <tr>\n",
       "      <th>12</th>\n",
       "      <td>25</td>\n",
       "      <td>2</td>\n",
       "      <td>5</td>\n",
       "      <td>1</td>\n",
       "    </tr>\n",
       "    <tr>\n",
       "      <th>11</th>\n",
       "      <td>18</td>\n",
       "      <td>10</td>\n",
       "      <td>6</td>\n",
       "      <td>3</td>\n",
       "    </tr>\n",
       "    <tr>\n",
       "      <th>55</th>\n",
       "      <td>77</td>\n",
       "      <td>20</td>\n",
       "      <td>5</td>\n",
       "      <td>4</td>\n",
       "    </tr>\n",
       "    <tr>\n",
       "      <th>16</th>\n",
       "      <td>42</td>\n",
       "      <td>22</td>\n",
       "      <td>3</td>\n",
       "      <td>5</td>\n",
       "    </tr>\n",
       "    <tr>\n",
       "      <th>23</th>\n",
       "      <td>44</td>\n",
       "      <td>5</td>\n",
       "      <td>8</td>\n",
       "      <td>1</td>\n",
       "    </tr>\n",
       "    <tr>\n",
       "      <th>2</th>\n",
       "      <td>30</td>\n",
       "      <td>0</td>\n",
       "      <td>5</td>\n",
       "      <td>2</td>\n",
       "    </tr>\n",
       "    <tr>\n",
       "      <th>42</th>\n",
       "      <td>69</td>\n",
       "      <td>20</td>\n",
       "      <td>5</td>\n",
       "      <td>4</td>\n",
       "    </tr>\n",
       "    <tr>\n",
       "      <th>13</th>\n",
       "      <td>28</td>\n",
       "      <td>20</td>\n",
       "      <td>2</td>\n",
       "      <td>8</td>\n",
       "    </tr>\n",
       "    <tr>\n",
       "      <th>44</th>\n",
       "      <td>39</td>\n",
       "      <td>15</td>\n",
       "      <td>7</td>\n",
       "      <td>2</td>\n",
       "    </tr>\n",
       "    <tr>\n",
       "      <th>24</th>\n",
       "      <td>77</td>\n",
       "      <td>3</td>\n",
       "      <td>2</td>\n",
       "      <td>6</td>\n",
       "    </tr>\n",
       "    <tr>\n",
       "      <th>3</th>\n",
       "      <td>28</td>\n",
       "      <td>0</td>\n",
       "      <td>8</td>\n",
       "      <td>1</td>\n",
       "    </tr>\n",
       "    <tr>\n",
       "      <th>31</th>\n",
       "      <td>56</td>\n",
       "      <td>20</td>\n",
       "      <td>3</td>\n",
       "      <td>3</td>\n",
       "    </tr>\n",
       "    <tr>\n",
       "      <th>47</th>\n",
       "      <td>28</td>\n",
       "      <td>10</td>\n",
       "      <td>4</td>\n",
       "      <td>1</td>\n",
       "    </tr>\n",
       "    <tr>\n",
       "      <th>14</th>\n",
       "      <td>34</td>\n",
       "      <td>25</td>\n",
       "      <td>4</td>\n",
       "      <td>8</td>\n",
       "    </tr>\n",
       "    <tr>\n",
       "      <th>29</th>\n",
       "      <td>40</td>\n",
       "      <td>20</td>\n",
       "      <td>2</td>\n",
       "      <td>7</td>\n",
       "    </tr>\n",
       "  </tbody>\n",
       "</table>\n",
       "</div>"
      ],
      "text/plain": [
       "    Age  Smokes  AreaQ  Alkhol\n",
       "12   25       2      5       1\n",
       "11   18      10      6       3\n",
       "55   77      20      5       4\n",
       "16   42      22      3       5\n",
       "23   44       5      8       1\n",
       "2    30       0      5       2\n",
       "42   69      20      5       4\n",
       "13   28      20      2       8\n",
       "44   39      15      7       2\n",
       "24   77       3      2       6\n",
       "3    28       0      8       1\n",
       "31   56      20      3       3\n",
       "47   28      10      4       1\n",
       "14   34      25      4       8\n",
       "29   40      20      2       7"
      ]
     },
     "execution_count": 12,
     "metadata": {},
     "output_type": "execute_result"
    }
   ],
   "source": [
    "Xte"
   ]
  },
  {
   "cell_type": "markdown",
   "id": "13a71ef6",
   "metadata": {},
   "source": [
    "# SVM"
   ]
  },
  {
   "cell_type": "code",
   "execution_count": 21,
   "id": "ea7db9ee",
   "metadata": {},
   "outputs": [
    {
     "data": {
      "text/plain": [
       "array([[8, 0],\n",
       "       [0, 4]], dtype=int64)"
      ]
     },
     "execution_count": 21,
     "metadata": {},
     "output_type": "execute_result"
    }
   ],
   "source": [
    "from sklearn.svm import SVC\n",
    "\n",
    "SVCClassifier=SVC(kernel='rbf')\n",
    "SVCClassifier.fit(X_train,y_train)\n",
    "\n",
    "y_svc_predict=SVCClassifier.predict(X_test)\n",
    "confusion_matrix(y_test,y_pred)"
   ]
  },
  {
   "cell_type": "code",
   "execution_count": 23,
   "id": "23bfb450",
   "metadata": {},
   "outputs": [
    {
     "name": "stdout",
     "output_type": "stream",
     "text": [
      "              precision    recall  f1-score   support\n",
      "\n",
      "           0       1.00      1.00      1.00         8\n",
      "           1       1.00      1.00      1.00         4\n",
      "\n",
      "    accuracy                           1.00        12\n",
      "   macro avg       1.00      1.00      1.00        12\n",
      "weighted avg       1.00      1.00      1.00        12\n",
      "\n"
     ]
    }
   ],
   "source": [
    "from sklearn.metrics import classification_report\n",
    "print(classification_report(y_test,y_pred))"
   ]
  },
  {
   "cell_type": "code",
   "execution_count": 25,
   "id": "f1f23722",
   "metadata": {},
   "outputs": [
    {
     "data": {
      "text/plain": [
       "1.0"
      ]
     },
     "execution_count": 25,
     "metadata": {},
     "output_type": "execute_result"
    }
   ],
   "source": [
    "score=SVCClassifier.score(X_test,y_test)\n",
    "score"
   ]
  },
  {
   "cell_type": "markdown",
   "id": "514d43e8",
   "metadata": {},
   "source": [
    "# Naive Bayes"
   ]
  },
  {
   "cell_type": "code",
   "execution_count": 27,
   "id": "a2553584",
   "metadata": {},
   "outputs": [
    {
     "data": {
      "text/plain": [
       "array([0, 0, 1, 1, 0, 0, 0, 0, 1, 0, 1, 0], dtype=int64)"
      ]
     },
     "execution_count": 27,
     "metadata": {},
     "output_type": "execute_result"
    }
   ],
   "source": [
    "from sklearn.naive_bayes import GaussianNB\n",
    "classifier_NB=GaussianNB()\n",
    "classifier_NB.fit(X_train,y_train)\n",
    "pred=classifier_NB.predict(X_test)\n",
    "pred"
   ]
  },
  {
   "cell_type": "code",
   "execution_count": 29,
   "id": "606b699d",
   "metadata": {},
   "outputs": [
    {
     "data": {
      "text/plain": [
       "array([[8, 0],\n",
       "       [0, 4]], dtype=int64)"
      ]
     },
     "execution_count": 29,
     "metadata": {},
     "output_type": "execute_result"
    }
   ],
   "source": [
    "confusion_matrix(y_test,pred)"
   ]
  },
  {
   "cell_type": "code",
   "execution_count": 30,
   "id": "73cb8f27",
   "metadata": {},
   "outputs": [
    {
     "data": {
      "text/plain": [
       "1.0"
      ]
     },
     "execution_count": 30,
     "metadata": {},
     "output_type": "execute_result"
    }
   ],
   "source": [
    "classifier_NB.score(X_test,y_test)"
   ]
  },
  {
   "cell_type": "markdown",
   "id": "6ae87478",
   "metadata": {},
   "source": [
    "## DecisionTreeClassifier"
   ]
  },
  {
   "cell_type": "code",
   "execution_count": 35,
   "id": "3ea32b89",
   "metadata": {},
   "outputs": [
    {
     "data": {
      "text/plain": [
       "0.9166666666666666"
      ]
     },
     "execution_count": 35,
     "metadata": {},
     "output_type": "execute_result"
    }
   ],
   "source": [
    "from sklearn.tree import DecisionTreeClassifier\n",
    "\n",
    "class_dt=DecisionTreeClassifier(random_state=9)\n",
    "class_dt.fit(X_train,y_train)\n",
    "y_pred_df=class_dt.predict(X_test)\n",
    "confusion_matrix(y_test,y_pred_df)\n",
    "\n",
    "class_dt.score(X_test,y_test)"
   ]
  },
  {
   "cell_type": "markdown",
   "id": "3f687dd2",
   "metadata": {},
   "source": [
    "## Random forest classifer"
   ]
  },
  {
   "cell_type": "code",
   "execution_count": 43,
   "id": "b0a2611b",
   "metadata": {},
   "outputs": [
    {
     "data": {
      "text/plain": [
       "array([0, 0, 1, 1, 0, 0, 0, 1, 1, 0, 1, 0], dtype=int64)"
      ]
     },
     "execution_count": 43,
     "metadata": {},
     "output_type": "execute_result"
    }
   ],
   "source": [
    "from sklearn.ensemble import RandomForestClassifier\n",
    "\n",
    "rf_class=RandomForestClassifier(n_estimators=100,random_state=9,n_jobs=-1)\n",
    "rf_class.fit(X_train,y_train)\n",
    "\n",
    "rf_pred=rf_class.predict(X_test)\n",
    "rf_pred"
   ]
  },
  {
   "cell_type": "code",
   "execution_count": 44,
   "id": "e0812ae4",
   "metadata": {},
   "outputs": [
    {
     "data": {
      "text/plain": [
       "0.9166666666666666"
      ]
     },
     "execution_count": 44,
     "metadata": {},
     "output_type": "execute_result"
    }
   ],
   "source": [
    "confusion_matrix(y_test,y_pred)\n",
    "rf_class.score(X_test,y_test)"
   ]
  }
 ],
 "metadata": {
  "kernelspec": {
   "display_name": "Python 3 (ipykernel)",
   "language": "python",
   "name": "python3"
  },
  "language_info": {
   "codemirror_mode": {
    "name": "ipython",
    "version": 3
   },
   "file_extension": ".py",
   "mimetype": "text/x-python",
   "name": "python",
   "nbconvert_exporter": "python",
   "pygments_lexer": "ipython3",
   "version": "3.7.4"
  }
 },
 "nbformat": 4,
 "nbformat_minor": 5
}
