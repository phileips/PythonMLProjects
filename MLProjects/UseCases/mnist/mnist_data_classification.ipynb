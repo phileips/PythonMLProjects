{
 "cells": [
  {
   "cell_type": "markdown",
   "id": "7c109aeb",
   "metadata": {},
   "source": [
    "# mnist Data Classification using vaiours ML models"
   ]
  },
  {
   "cell_type": "markdown",
   "id": "ec90515d",
   "metadata": {},
   "source": [
    "### Import and load the data and the required packages"
   ]
  },
  {
   "cell_type": "markdown",
   "id": "28585139",
   "metadata": {},
   "source": [
    "*Here we are importing the mnist data and calculating the accuracy of the variious ML models*"
   ]
  },
  {
   "cell_type": "code",
   "execution_count": 1,
   "id": "6d9b09b5",
   "metadata": {},
   "outputs": [
    {
     "data": {
      "text/plain": [
       "(10000, 784)"
      ]
     },
     "execution_count": 1,
     "metadata": {},
     "output_type": "execute_result"
    }
   ],
   "source": [
    "from sklearn import svm\n",
    "import numpy as np\n",
    "import pandas as pd\n",
    "\n",
    "import matplotlib.pyplot as plt\n",
    "\n",
    "from sklearn.preprocessing import MinMaxScaler\n",
    "from sklearn.metrics import accuracy_score,confusion_matrix\n",
    "\n",
    "df_train=pd.read_csv('mnist_train.csv')\n",
    "df_test=pd.read_csv('mnist_test.csv')\n",
    "\n",
    "X_train=df_train[df_train.columns[1:]]\n",
    "X_test=df_test[df_test.columns[1:]]\n",
    "X_test.shape"
   ]
  },
  {
   "cell_type": "code",
   "execution_count": 2,
   "id": "371cd77e",
   "metadata": {},
   "outputs": [],
   "source": [
    "y_train=df_train['label']\n",
    "y_test=df_test['label']"
   ]
  },
  {
   "cell_type": "code",
   "execution_count": 3,
   "id": "83191a05",
   "metadata": {},
   "outputs": [],
   "source": [
    "scalar=MinMaxScaler(feature_range=(-1,1)).fit(X_train)\n",
    "scalar\n",
    "X_train=scalar.transform(X_train)\n",
    "X_test=scalar.transform(X_test)"
   ]
  },
  {
   "cell_type": "markdown",
   "id": "2d1b9f9e",
   "metadata": {},
   "source": [
    "# SVM"
   ]
  },
  {
   "cell_type": "code",
   "execution_count": 7,
   "id": "6a8e8afb",
   "metadata": {},
   "outputs": [],
   "source": [
    "rbf_svm=svm.SVC(kernel='rbf')"
   ]
  },
  {
   "cell_type": "code",
   "execution_count": 8,
   "id": "bc72e1ac",
   "metadata": {},
   "outputs": [
    {
     "data": {
      "text/plain": [
       "SVC()"
      ]
     },
     "execution_count": 8,
     "metadata": {},
     "output_type": "execute_result"
    }
   ],
   "source": [
    "rbf_svm = svm.SVC(kernel='rbf')\n",
    "rbf_svm.fit(X_train, y_train)"
   ]
  },
  {
   "cell_type": "code",
   "execution_count": 9,
   "id": "5e39f44a",
   "metadata": {},
   "outputs": [],
   "source": [
    "y_pred=rbf_svm.predict(X_test)\n"
   ]
  },
  {
   "cell_type": "code",
   "execution_count": 10,
   "id": "6e857ff3",
   "metadata": {},
   "outputs": [
    {
     "data": {
      "text/plain": [
       "array([7, 2, 1, ..., 4, 5, 6], dtype=int64)"
      ]
     },
     "execution_count": 10,
     "metadata": {},
     "output_type": "execute_result"
    }
   ],
   "source": [
    "y_pred"
   ]
  },
  {
   "cell_type": "code",
   "execution_count": 11,
   "id": "9accec28",
   "metadata": {},
   "outputs": [
    {
     "data": {
      "text/plain": [
       "0.9791"
      ]
     },
     "execution_count": 11,
     "metadata": {},
     "output_type": "execute_result"
    }
   ],
   "source": [
    "accuracy_scoreracy_scorecy_testcy_score(y_pred,y_test)\n",
    "sc"
   ]
  },
  {
   "cell_type": "markdown",
   "id": "1c400759",
   "metadata": {},
   "source": [
    "# KNN classifer"
   ]
  },
  {
   "cell_type": "code",
   "execution_count": 5,
   "id": "786e13c2",
   "metadata": {},
   "outputs": [
    {
     "data": {
      "text/plain": [
       "array([7, 2, 1, ..., 4, 5, 6], dtype=int64)"
      ]
     },
     "execution_count": 5,
     "metadata": {},
     "output_type": "execute_result"
    }
   ],
   "source": [
    "from sklearn.neighbors import KNeighborsClassifier\n",
    "\n",
    "clas=KNeighborsClassifier(n_neighbors=10)\n",
    "clas.fit(X_train,y_train)\n",
    "y_pred=clas.predict(X_test)\n",
    "y_pred"
   ]
  },
  {
   "cell_type": "code",
   "execution_count": 6,
   "id": "edd9d10b",
   "metadata": {},
   "outputs": [
    {
     "data": {
      "text/plain": [
       "0.9664"
      ]
     },
     "execution_count": 6,
     "metadata": {},
     "output_type": "execute_result"
    }
   ],
   "source": [
    "acc=accuracy_score(y_test,y_pred)\n",
    "acc"
   ]
  },
  {
   "cell_type": "code",
   "execution_count": 8,
   "id": "53ae60a7",
   "metadata": {},
   "outputs": [
    {
     "data": {
      "text/plain": [
       "array([[ 971,    1,    1,    0,    0,    2,    4,    1,    0,    0],\n",
       "       [   0, 1132,    2,    0,    0,    0,    1,    0,    0,    0],\n",
       "       [  13,   12,  982,    2,    1,    0,    2,   17,    3,    0],\n",
       "       [   0,    3,    3,  976,    1,   10,    1,    7,    6,    3],\n",
       "       [   2,   11,    0,    0,  940,    0,    4,    1,    1,   23],\n",
       "       [   4,    0,    0,   12,    1,  863,    6,    1,    1,    4],\n",
       "       [   6,    4,    0,    0,    3,    2,  943,    0,    0,    0],\n",
       "       [   0,   27,    4,    0,    2,    0,    0,  983,    0,   12],\n",
       "       [   6,    4,    5,   11,    7,    9,    4,    7,  914,    7],\n",
       "       [   7,    6,    3,    7,   10,    3,    1,   10,    2,  960]],\n",
       "      dtype=int64)"
      ]
     },
     "execution_count": 8,
     "metadata": {},
     "output_type": "execute_result"
    }
   ],
   "source": [
    "cm=confusion_matrix(y_test,y_pred)\n",
    "cm"
   ]
  },
  {
   "cell_type": "code",
   "execution_count": 15,
   "id": "0536908a",
   "metadata": {},
   "outputs": [
    {
     "name": "stdout",
     "output_type": "stream",
     "text": [
      "4     0\n",
      "2     1\n",
      "8     2\n",
      "2     7\n",
      "4     9\n",
      "3     1\n",
      "9     8\n",
      "4     6\n",
      "4     1\n",
      "2     0\n",
      "9     7\n",
      "2     7\n",
      "6     4\n",
      "7     4\n",
      "3     7\n",
      "2     8\n",
      "6     0\n",
      "4     9\n",
      "2     1\n",
      "3     7\n",
      "9     3\n",
      "8     0\n",
      "8     1\n",
      "7     1\n",
      "4     9\n",
      "8     3\n",
      "2     7\n",
      "3     9\n",
      "2     1\n",
      "2     6\n",
      "2     7\n",
      "7     1\n",
      "8     4\n",
      "4     9\n",
      "4     9\n",
      "4     9\n",
      "5     9\n",
      "8     3\n",
      "8     3\n",
      "2     7\n",
      "3     5\n",
      "2     0\n",
      "8     9\n",
      "5     4\n",
      "3     5\n",
      "6     0\n",
      "6     5\n",
      "7     1\n",
      "3     7\n",
      "8     4\n",
      "9     8\n",
      "4     6\n",
      "7     9\n",
      "6     1\n",
      "2     1\n",
      "9     4\n",
      "7     2\n",
      "4     9\n",
      "9     0\n",
      "7     1\n",
      "7     1\n",
      "5     9\n",
      "5     7\n",
      "8     3\n",
      "7     1\n",
      "8     3\n",
      "5     6\n",
      "5     3\n",
      "8     6\n",
      "8     9\n",
      "8     1\n",
      "4     1\n",
      "7     1\n",
      "7     9\n",
      "8     7\n",
      "9     3\n",
      "9     3\n",
      "3     7\n",
      "9     7\n",
      "4     9\n",
      "9     3\n",
      "7     1\n",
      "8     0\n",
      "7     9\n",
      "5     3\n",
      "7     1\n",
      "8     5\n",
      "8     4\n",
      "2     7\n",
      "8     5\n",
      "8     9\n",
      "8     7\n",
      "4     9\n",
      "8     3\n",
      "9     4\n",
      "8     2\n",
      "8     1\n",
      "2     0\n",
      "4     8\n",
      "2     7\n",
      "8     4\n",
      "4     9\n",
      "7     1\n",
      "7     9\n",
      "2     1\n",
      "8     1\n",
      "2     0\n",
      "3     4\n",
      "6     0\n",
      "9     2\n",
      "4     9\n",
      "6     1\n",
      "8     2\n",
      "8     3\n",
      "1     2\n",
      "0     5\n",
      "2     0\n",
      "9     1\n",
      "4     1\n",
      "5     6\n",
      "9     6\n",
      "2     7\n",
      "7     1\n",
      "5     3\n",
      "9     1\n",
      "8     3\n",
      "9     1\n",
      "6     4\n",
      "9     4\n",
      "2     1\n",
      "4     9\n",
      "6     5\n",
      "2     0\n",
      "2     4\n",
      "3     1\n",
      "9     7\n",
      "5     3\n",
      "7     1\n",
      "9     0\n",
      "6     1\n",
      "7     4\n",
      "4     9\n",
      "8     0\n",
      "3     2\n",
      "9     5\n",
      "3     5\n",
      "9     1\n",
      "9     7\n",
      "8     6\n",
      "1     2\n",
      "5     9\n",
      "7     1\n",
      "9     4\n",
      "8     3\n",
      "2     1\n",
      "7     1\n",
      "9     3\n",
      "7     1\n",
      "6     0\n",
      "7     9\n",
      "5     9\n",
      "2     6\n",
      "4     9\n",
      "4     9\n",
      "3     7\n",
      "4     9\n",
      "9     1\n",
      "6     4\n",
      "5     0\n",
      "8     5\n",
      "8     5\n",
      "9     3\n",
      "2     7\n",
      "8     0\n",
      "5     8\n",
      "8     0\n",
      "9     4\n",
      "5     3\n",
      "7     1\n",
      "7     1\n",
      "4     6\n",
      "2     1\n",
      "7     1\n",
      "2     3\n",
      "0     6\n",
      "7     1\n",
      "6     0\n",
      "5     6\n",
      "5     3\n",
      "9     3\n",
      "4     6\n",
      "2     1\n",
      "5     3\n",
      "7     1\n",
      "9     4\n",
      "4     9\n",
      "0     2\n",
      "8     3\n",
      "9     2\n",
      "8     5\n",
      "8     2\n",
      "9     0\n",
      "2     7\n",
      "4     9\n",
      "7     9\n",
      "9     7\n",
      "2     1\n",
      "5     3\n",
      "2     7\n",
      "3     7\n",
      "2     3\n",
      "9     2\n",
      "9     4\n",
      "5     0\n",
      "4     9\n",
      "7     1\n",
      "3     7\n",
      "3     2\n",
      "2     7\n",
      "8     7\n",
      "9     1\n",
      "2     7\n",
      "4     9\n",
      "3     5\n",
      "8     9\n",
      "8     3\n",
      "7     9\n",
      "6     1\n",
      "8     7\n",
      "8     6\n",
      "3     5\n",
      "3     8\n",
      "8     0\n",
      "6     0\n",
      "9     4\n",
      "7     1\n",
      "4     9\n",
      "8     6\n",
      "7     1\n",
      "8     2\n",
      "2     7\n",
      "7     1\n",
      "8     7\n",
      "9     4\n",
      "4     1\n",
      "8     4\n",
      "8     9\n",
      "1     6\n",
      "7     9\n",
      "4     1\n",
      "4     1\n",
      "7     9\n",
      "4     1\n",
      "3     9\n",
      "9     7\n",
      "7     9\n",
      "3     6\n",
      "7     9\n",
      "4     9\n",
      "5     3\n",
      "3     8\n",
      "3     8\n",
      "5     3\n",
      "5     3\n",
      "3     5\n",
      "3     8\n",
      "2     0\n",
      "3     5\n",
      "9     5\n",
      "9     0\n",
      "9     5\n",
      "9     0\n",
      "9     0\n",
      "9     0\n",
      "8     7\n",
      "3     1\n",
      "9     7\n",
      "7     1\n",
      "7     1\n",
      "0     7\n",
      "5     6\n",
      "8     4\n",
      "0     5\n",
      "4     1\n",
      "8     7\n",
      "8     9\n",
      "8     9\n",
      "0     6\n",
      "7     1\n",
      "4     7\n",
      "2     7\n",
      "4     1\n",
      "2     0\n",
      "3     2\n",
      "7     9\n",
      "4     1\n",
      "3     5\n",
      "3     5\n",
      "8     4\n",
      "0     6\n",
      "8     5\n",
      "4     1\n",
      "4     9\n",
      "7     2\n",
      "7     2\n",
      "7     2\n",
      "8     5\n",
      "5     3\n",
      "9     7\n",
      "2     1\n",
      "3     8\n",
      "0     1\n",
      "9     7\n",
      "3     5\n",
      "2     7\n",
      "2     1\n",
      "2     0\n",
      "5     0\n",
      "5     6\n",
      "9     7\n",
      "4     0\n",
      "2     0\n",
      "2     0\n",
      "5     0\n",
      "2     0\n",
      "9     4\n",
      "2     8\n",
      "2     7\n",
      "2     8\n",
      "8     5\n",
      "0     6\n",
      "8     5\n",
      "2     0\n",
      "3     9\n",
      "3     8\n",
      "5     6\n"
     ]
    }
   ],
   "source": [
    "for i in range(len(y_test)):\n",
    "    if y_test[i] != y_pred[i]:\n",
    "        print(y_test[i],'   ',y_pred[i])"
   ]
  },
  {
   "cell_type": "code",
   "execution_count": 16,
   "id": "63e45b6c",
   "metadata": {},
   "outputs": [
    {
     "data": {
      "text/plain": [
       "9664"
      ]
     },
     "execution_count": 16,
     "metadata": {},
     "output_type": "execute_result"
    }
   ],
   "source": [
    "con=0\n",
    "for i in range(len(y_test)):\n",
    "    if y_test[i] == y_pred[i]:\n",
    "        con+=1\n",
    "con"
   ]
  },
  {
   "cell_type": "code",
   "execution_count": 17,
   "id": "d2c0e362",
   "metadata": {},
   "outputs": [
    {
     "data": {
      "text/plain": [
       "0.0336"
      ]
     },
     "execution_count": 17,
     "metadata": {},
     "output_type": "execute_result"
    }
   ],
   "source": [
    "(10000-9664)/10000"
   ]
  },
  {
   "cell_type": "code",
   "execution_count": 18,
   "id": "c92fd03e",
   "metadata": {},
   "outputs": [
    {
     "data": {
      "text/plain": [
       "0.9664"
      ]
     },
     "execution_count": 18,
     "metadata": {},
     "output_type": "execute_result"
    }
   ],
   "source": [
    "1-0.0336"
   ]
  },
  {
   "cell_type": "code",
   "execution_count": 25,
   "id": "c092b66b",
   "metadata": {},
   "outputs": [
    {
     "data": {
      "text/plain": [
       "<bound method Series.count of 0       7\n",
       "1       2\n",
       "2       1\n",
       "3       0\n",
       "4       4\n",
       "       ..\n",
       "9995    2\n",
       "9996    3\n",
       "9997    4\n",
       "9998    5\n",
       "9999    6\n",
       "Name: label, Length: 10000, dtype: int64>"
      ]
     },
     "execution_count": 25,
     "metadata": {},
     "output_type": "execute_result"
    }
   ],
   "source": [
    "y_test.count\n"
   ]
  },
  {
   "cell_type": "markdown",
   "id": "b1ec11d8",
   "metadata": {},
   "source": [
    "# Decision Tree Classifier"
   ]
  },
  {
   "cell_type": "code",
   "execution_count": 26,
   "id": "50c80a61",
   "metadata": {},
   "outputs": [
    {
     "data": {
      "text/plain": [
       "0.8756"
      ]
     },
     "execution_count": 26,
     "metadata": {},
     "output_type": "execute_result"
    }
   ],
   "source": [
    "from sklearn.tree import DecisionTreeClassifier\n",
    "\n",
    "class_dt=DecisionTreeClassifier(random_state=9)\n",
    "class_dt.fit(X_train,y_train)\n",
    "y_pred_df=class_dt.predict(X_test)\n",
    "confusion_matrix(y_test,y_pred_df)\n",
    "\n",
    "class_dt.score(X_test,y_test)"
   ]
  },
  {
   "cell_type": "markdown",
   "id": "5409e341",
   "metadata": {},
   "source": [
    "# Logistic Regression"
   ]
  },
  {
   "cell_type": "code",
   "execution_count": 29,
   "id": "d6c96149",
   "metadata": {},
   "outputs": [
    {
     "name": "stderr",
     "output_type": "stream",
     "text": [
      "C:\\Users\\sreek\\AppData\\Local\\Continuum\\anaconda3\\envs\\gpuenv\\lib\\site-packages\\sklearn\\linear_model\\_logistic.py:818: ConvergenceWarning: lbfgs failed to converge (status=1):\n",
      "STOP: TOTAL NO. of ITERATIONS REACHED LIMIT.\n",
      "\n",
      "Increase the number of iterations (max_iter) or scale the data as shown in:\n",
      "    https://scikit-learn.org/stable/modules/preprocessing.html\n",
      "Please also refer to the documentation for alternative solver options:\n",
      "    https://scikit-learn.org/stable/modules/linear_model.html#logistic-regression\n",
      "  extra_warning_msg=_LOGISTIC_SOLVER_CONVERGENCE_MSG,\n"
     ]
    },
    {
     "data": {
      "text/plain": [
       "0.9231"
      ]
     },
     "execution_count": 29,
     "metadata": {},
     "output_type": "execute_result"
    }
   ],
   "source": [
    "from sklearn.linear_model import LogisticRegression\n",
    "\n",
    "classifier=LogisticRegression()\n",
    "classifier.fit(X_train,y_train)\n",
    "\n",
    "y_pred=classifier.predict(X_test)\n",
    "classifier.score(X_test,y_test)"
   ]
  },
  {
   "cell_type": "markdown",
   "id": "1b06eedc",
   "metadata": {},
   "source": [
    "## conclusion\n",
    "\n",
    "> **From all the above models the SVM gives the better accurancy over 97% for the minist data**"
   ]
  }
 ],
 "metadata": {
  "kernelspec": {
   "display_name": "gpuenv",
   "language": "python",
   "name": "gpuenv"
  },
  "language_info": {
   "codemirror_mode": {
    "name": "ipython",
    "version": 3
   },
   "file_extension": ".py",
   "mimetype": "text/x-python",
   "name": "python",
   "nbconvert_exporter": "python",
   "pygments_lexer": "ipython3",
   "version": "3.7.13"
  }
 },
 "nbformat": 4,
 "nbformat_minor": 5
}
